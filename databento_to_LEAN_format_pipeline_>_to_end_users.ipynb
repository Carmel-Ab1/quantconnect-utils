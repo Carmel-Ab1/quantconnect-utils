{
  "cells": [
    {
      "cell_type": "markdown",
      "metadata": {
        "id": "view-in-github",
        "colab_type": "text"
      },
      "source": [
        "<a href=\"https://colab.research.google.com/github/Carmel-Ab1/quantconnect-utils/blob/master/databento_to_LEAN_format_pipeline_%3E_to_end_users.ipynb\" target=\"_parent\"><img src=\"https://colab.research.google.com/assets/colab-badge.svg\" alt=\"Open In Colab\"/></a>"
      ]
    },
    {
      "cell_type": "code",
      "execution_count": 2,
      "metadata": {
        "colab": {
          "base_uri": "https://localhost:8080/"
        },
        "id": "P7ot_I9lFFZ9",
        "outputId": "07059cc2-8d8d-4374-a867-7c4528f12710"
      },
      "outputs": [
        {
          "output_type": "stream",
          "name": "stderr",
          "text": [
            "/usr/local/lib/python3.10/dist-packages/ipykernel/ipkernel.py:283: DeprecationWarning: `should_run_async` will not call `transform_cell` automatically in the future. Please pass the result to `transformed_cell` argument and any exception that happen during thetransform in `preprocessing_exc_tuple` in IPython 7.17 and above.\n",
            "  and should_run_async(code)\n"
          ]
        },
        {
          "output_type": "stream",
          "name": "stdout",
          "text": [
            "Mounted at /content/drive\n"
          ]
        }
      ],
      "source": [
        "# @title RUN ONCE\n",
        "from google.colab import drive\n",
        "import pandas as pd\n",
        "import pytz\n",
        "import os\n",
        "import zipfile\n",
        "from datetime import *\n",
        "from tqdm.notebook import tqdm\n",
        "try:\n",
        "    import databento as db\n",
        "except:\n",
        "    !pip install databento --quiet\n",
        "    import databento as db\n",
        "drive.mount('/content/drive')"
      ]
    },
    {
      "cell_type": "code",
      "execution_count": null,
      "metadata": {
        "colab": {
          "background_save": true,
          "base_uri": "https://localhost:8080/"
        },
        "id": "H7aAnSePp5_k",
        "outputId": "685780f6-c2be-402f-968e-ba7951cc871c"
      },
      "outputs": [
        {
          "name": "stderr",
          "output_type": "stream",
          "text": [
            "/usr/local/lib/python3.10/dist-packages/ipykernel/ipkernel.py:283: DeprecationWarning: `should_run_async` will not call `transform_cell` automatically in the future. Please pass the result to `transformed_cell` argument and any exception that happen during thetransform in `preprocessing_exc_tuple` in IPython 7.17 and above.\n",
            "  and should_run_async(code)\n"
          ]
        },
        {
          "name": "stdout",
          "output_type": "stream",
          "text": [
            "STARTED: 6A\n"
          ]
        },
        {
          "name": "stderr",
          "output_type": "stream",
          "text": [
            "<ipython-input-21-a58d3bf742fc>:13: BentoWarning: The streaming request contained one or more days which have reduced quality: 2017-11-13 (degraded), 2018-10-21 (degraded), 2019-01-15 (degraded)... See: https://databento.com/docs/api-reference-historical/metadata/metadata-get-dataset-condition\n",
            "  data = client.timeseries.get_range(\n"
          ]
        },
        {
          "name": "stdout",
          "output_type": "stream",
          "text": [
            "STARTED: 6B\n"
          ]
        },
        {
          "name": "stderr",
          "output_type": "stream",
          "text": [
            "<ipython-input-21-a58d3bf742fc>:13: BentoWarning: The streaming request contained one or more days which have reduced quality: 2017-11-13 (degraded), 2018-10-21 (degraded), 2019-01-15 (degraded)... See: https://databento.com/docs/api-reference-historical/metadata/metadata-get-dataset-condition\n",
            "  data = client.timeseries.get_range(\n"
          ]
        },
        {
          "name": "stdout",
          "output_type": "stream",
          "text": [
            "STARTED: 6C\n"
          ]
        },
        {
          "name": "stderr",
          "output_type": "stream",
          "text": [
            "<ipython-input-21-a58d3bf742fc>:13: BentoWarning: The streaming request contained one or more days which have reduced quality: 2017-11-13 (degraded), 2018-10-21 (degraded), 2019-01-15 (degraded)... See: https://databento.com/docs/api-reference-historical/metadata/metadata-get-dataset-condition\n",
            "  data = client.timeseries.get_range(\n"
          ]
        },
        {
          "name": "stdout",
          "output_type": "stream",
          "text": [
            "STARTED: 6E\n"
          ]
        },
        {
          "name": "stderr",
          "output_type": "stream",
          "text": [
            "<ipython-input-21-a58d3bf742fc>:13: BentoWarning: The streaming request contained one or more days which have reduced quality: 2017-11-13 (degraded), 2018-10-21 (degraded), 2019-01-15 (degraded)... See: https://databento.com/docs/api-reference-historical/metadata/metadata-get-dataset-condition\n",
            "  data = client.timeseries.get_range(\n"
          ]
        },
        {
          "name": "stdout",
          "output_type": "stream",
          "text": [
            "STARTED: 6J\n"
          ]
        },
        {
          "name": "stderr",
          "output_type": "stream",
          "text": [
            "<ipython-input-21-a58d3bf742fc>:13: BentoWarning: The streaming request contained one or more days which have reduced quality: 2017-11-13 (degraded), 2018-10-21 (degraded), 2019-01-15 (degraded)... See: https://databento.com/docs/api-reference-historical/metadata/metadata-get-dataset-condition\n",
            "  data = client.timeseries.get_range(\n"
          ]
        },
        {
          "name": "stdout",
          "output_type": "stream",
          "text": [
            "STARTED: 6N\n"
          ]
        },
        {
          "name": "stderr",
          "output_type": "stream",
          "text": [
            "<ipython-input-21-a58d3bf742fc>:13: BentoWarning: The streaming request contained one or more days which have reduced quality: 2017-11-13 (degraded), 2018-10-21 (degraded), 2019-01-15 (degraded)... See: https://databento.com/docs/api-reference-historical/metadata/metadata-get-dataset-condition\n",
            "  data = client.timeseries.get_range(\n"
          ]
        },
        {
          "name": "stdout",
          "output_type": "stream",
          "text": [
            "STARTED: 6S\n"
          ]
        },
        {
          "name": "stderr",
          "output_type": "stream",
          "text": [
            "<ipython-input-21-a58d3bf742fc>:13: BentoWarning: The streaming request contained one or more days which have reduced quality: 2017-11-13 (degraded), 2018-10-21 (degraded), 2019-01-15 (degraded)... See: https://databento.com/docs/api-reference-historical/metadata/metadata-get-dataset-condition\n",
            "  data = client.timeseries.get_range(\n"
          ]
        },
        {
          "name": "stdout",
          "output_type": "stream",
          "text": [
            "STARTED: CL\n"
          ]
        },
        {
          "name": "stderr",
          "output_type": "stream",
          "text": [
            "<ipython-input-21-a58d3bf742fc>:13: BentoWarning: The streaming request contained one or more days which have reduced quality: 2017-11-13 (degraded), 2018-10-21 (degraded), 2019-01-15 (degraded)... See: https://databento.com/docs/api-reference-historical/metadata/metadata-get-dataset-condition\n",
            "  data = client.timeseries.get_range(\n"
          ]
        },
        {
          "name": "stdout",
          "output_type": "stream",
          "text": [
            "STARTED: ES\n"
          ]
        },
        {
          "name": "stderr",
          "output_type": "stream",
          "text": [
            "<ipython-input-21-a58d3bf742fc>:13: BentoWarning: The streaming request contained one or more days which have reduced quality: 2017-11-13 (degraded), 2018-10-21 (degraded), 2019-01-15 (degraded)... See: https://databento.com/docs/api-reference-historical/metadata/metadata-get-dataset-condition\n",
            "  data = client.timeseries.get_range(\n"
          ]
        },
        {
          "name": "stdout",
          "output_type": "stream",
          "text": [
            "STARTED: GC\n"
          ]
        },
        {
          "name": "stderr",
          "output_type": "stream",
          "text": [
            "<ipython-input-21-a58d3bf742fc>:13: BentoWarning: The streaming request contained one or more days which have reduced quality: 2017-11-13 (degraded), 2018-10-21 (degraded), 2019-01-15 (degraded)... See: https://databento.com/docs/api-reference-historical/metadata/metadata-get-dataset-condition\n",
            "  data = client.timeseries.get_range(\n"
          ]
        },
        {
          "name": "stdout",
          "output_type": "stream",
          "text": [
            "STARTED: HG\n"
          ]
        },
        {
          "name": "stderr",
          "output_type": "stream",
          "text": [
            "<ipython-input-21-a58d3bf742fc>:13: BentoWarning: The streaming request contained one or more days which have reduced quality: 2017-11-13 (degraded), 2018-10-21 (degraded), 2019-01-15 (degraded)... See: https://databento.com/docs/api-reference-historical/metadata/metadata-get-dataset-condition\n",
            "  data = client.timeseries.get_range(\n"
          ]
        },
        {
          "name": "stdout",
          "output_type": "stream",
          "text": [
            "STARTED: NG\n"
          ]
        },
        {
          "name": "stderr",
          "output_type": "stream",
          "text": [
            "<ipython-input-21-a58d3bf742fc>:13: BentoWarning: The streaming request contained one or more days which have reduced quality: 2017-11-13 (degraded), 2018-10-21 (degraded), 2019-01-15 (degraded)... See: https://databento.com/docs/api-reference-historical/metadata/metadata-get-dataset-condition\n",
            "  data = client.timeseries.get_range(\n"
          ]
        },
        {
          "name": "stdout",
          "output_type": "stream",
          "text": [
            "STARTED: NQ\n"
          ]
        },
        {
          "name": "stderr",
          "output_type": "stream",
          "text": [
            "<ipython-input-21-a58d3bf742fc>:13: BentoWarning: The streaming request contained one or more days which have reduced quality: 2017-11-13 (degraded), 2018-10-21 (degraded), 2019-01-15 (degraded)... See: https://databento.com/docs/api-reference-historical/metadata/metadata-get-dataset-condition\n",
            "  data = client.timeseries.get_range(\n"
          ]
        },
        {
          "name": "stdout",
          "output_type": "stream",
          "text": [
            "STARTED: RTY\n"
          ]
        },
        {
          "name": "stderr",
          "output_type": "stream",
          "text": [
            "<ipython-input-21-a58d3bf742fc>:13: BentoWarning: The streaming request contained one or more days which have reduced quality: 2017-11-13 (degraded), 2018-10-21 (degraded), 2019-01-15 (degraded)... See: https://databento.com/docs/api-reference-historical/metadata/metadata-get-dataset-condition\n",
            "  data = client.timeseries.get_range(\n"
          ]
        },
        {
          "name": "stdout",
          "output_type": "stream",
          "text": [
            "STARTED: ZN\n"
          ]
        },
        {
          "name": "stderr",
          "output_type": "stream",
          "text": [
            "<ipython-input-21-a58d3bf742fc>:13: BentoWarning: The streaming request contained one or more days which have reduced quality: 2017-11-13 (degraded), 2018-10-21 (degraded), 2019-01-15 (degraded)... See: https://databento.com/docs/api-reference-historical/metadata/metadata-get-dataset-condition\n",
            "  data = client.timeseries.get_range(\n"
          ]
        },
        {
          "name": "stdout",
          "output_type": "stream",
          "text": [
            "STARTED: ZS\n"
          ]
        },
        {
          "name": "stderr",
          "output_type": "stream",
          "text": [
            "<ipython-input-21-a58d3bf742fc>:13: BentoWarning: The streaming request contained one or more days which have reduced quality: 2017-11-13 (degraded), 2018-10-21 (degraded), 2019-01-15 (degraded)... See: https://databento.com/docs/api-reference-historical/metadata/metadata-get-dataset-condition\n",
            "  data = client.timeseries.get_range(\n"
          ]
        }
      ],
      "source": [
        "# @title fetch Databento data - update security definition (contract rollover date) DOESNT WRITE CORRECTLY\n",
        "\n",
        "db_key = 'db-VPmdXsie73iBsYAiUJwtVvBUkn9DW <safety remove>' # Almogs key\n",
        "client = db.Historical(db_key)\n",
        "symbols = ['6A', '6B', '6C', '6E', '6J', '6N', '6S', 'CL', 'ES', 'GC', 'HG', 'NG', 'NQ', 'RTY', 'ZN', 'ZS']\n",
        "drive_base_path = '/content/drive/MyDrive/RTL DATA/Market Data/security_definition'\n",
        "\n",
        "\n",
        "for symbol in symbols:\n",
        "    print(f'STARTED: {symbol}')\n",
        "    drive_path = drive_base_path + f'/{symbol}.csv'\n",
        "    old_definition = pd.read_csv(drive_path).set_index('ts_event')\n",
        "    data = client.timeseries.get_range(\n",
        "        dataset=\"GLBX.MDP3\",\n",
        "        symbols=[f'{symbol}.v.0'],\n",
        "        stype_in='continuous',\n",
        "        schema='definition',\n",
        "        start=\"2024-06-20\",\n",
        "        end=\"2024-08-10\"\n",
        "        )\n",
        "\n",
        "    new_definition = data.to_df()\n",
        "    df = pd.concat([old_definition, new_definition], axis=0)\n",
        "    df.to_csv(drive_path)"
      ]
    },
    {
      "cell_type": "code",
      "execution_count": null,
      "metadata": {
        "colab": {
          "base_uri": "https://localhost:8080/"
        },
        "id": "4WGZ8xsFX9Vz",
        "outputId": "66e54c75-7de4-4af0-95da-b92c62f7dafe"
      },
      "outputs": [
        {
          "name": "stderr",
          "output_type": "stream",
          "text": [
            "/usr/local/lib/python3.10/dist-packages/ipykernel/ipkernel.py:283: DeprecationWarning: `should_run_async` will not call `transform_cell` automatically in the future. Please pass the result to `transformed_cell` argument and any exception that happen during thetransform in `preprocessing_exc_tuple` in IPython 7.17 and above.\n",
            "  and should_run_async(code)\n"
          ]
        },
        {
          "name": "stdout",
          "output_type": "stream",
          "text": [
            "STARTED 6A\n",
            "STARTED 6B\n",
            "STARTED 6C\n",
            "STARTED 6E\n",
            "STARTED 6J\n",
            "STARTED 6N\n",
            "STARTED 6S\n",
            "STARTED CL\n",
            "STARTED ES\n",
            "STARTED GC\n",
            "STARTED HG\n",
            "STARTED NG\n",
            "STARTED NQ\n",
            "STARTED RTY\n",
            "STARTED ZN\n"
          ]
        }
      ],
      "source": [
        "# @title fetch Databento data - historical ohlcv 1m\n",
        "\n",
        "db_key = 'db-VPmdXsie73iBsYAiUJwtVvBUkn9DW <safety remove>' # Almogs key\n",
        "# client = db.Historical(db_key)\n",
        "symbols = ['6A', '6B', '6C', '6E', '6J', '6N', '6S', 'CL', 'ES', 'GC', 'HG', 'NG', 'NQ', 'RTY', 'ZN',]\n",
        "\n",
        "for symbol in tqdm(symbols):\n",
        "    print(f'STARTED {symbol}')\n",
        "    drive_base_path = f'/content/drive/MyDrive/RTL DATA/Market Data/Databento Raw/{symbol}.csv'\n",
        "    old_data = pd.read_csv(drive_base_path, index_col='ts_event')\n",
        "    data = client.timeseries.get_range(\n",
        "        dataset=\"GLBX.MDP3\",\n",
        "        symbols=[f'{symbol}.v.0'],\n",
        "        stype_in='continuous',\n",
        "        schema='ohlcv-1m',\n",
        "        start=\"2024-06-20\",\n",
        "        end=\"2024-08-10\"\n",
        "    )\n",
        "    new_data = data.to_df()\n",
        "    df = pd.concat([old_data, new_data], axis=0)\n",
        "    df.to_csv(drive_base_path)"
      ]
    },
    {
      "cell_type": "code",
      "execution_count": 3,
      "metadata": {
        "colab": {
          "base_uri": "https://localhost:8080/",
          "height": 478
        },
        "id": "JZyT9lLq0-xl",
        "outputId": "0a2f0f02-207b-4f90-f56c-55a570420816"
      },
      "outputs": [
        {
          "output_type": "stream",
          "name": "stderr",
          "text": [
            "/usr/local/lib/python3.10/dist-packages/ipykernel/ipkernel.py:283: DeprecationWarning: `should_run_async` will not call `transform_cell` automatically in the future. Please pass the result to `transformed_cell` argument and any exception that happen during thetransform in `preprocessing_exc_tuple` in IPython 7.17 and above.\n",
            "  and should_run_async(code)\n"
          ]
        },
        {
          "output_type": "execute_result",
          "data": {
            "text/plain": [
              "                         ts_event  rtype  publisher_id  instrument_id   open  \\\n",
              "0       2017-05-21 22:00:00+00:00     33             1         168994  3.291   \n",
              "1       2017-05-21 22:01:00+00:00     33             1         168994  3.293   \n",
              "2       2017-05-21 22:02:00+00:00     33             1         168994  3.295   \n",
              "3       2017-05-21 22:03:00+00:00     33             1         168994  3.290   \n",
              "4       2017-05-21 22:04:00+00:00     33             1         168994  3.292   \n",
              "...                           ...    ...           ...            ...    ...   \n",
              "2269296 2024-08-09 20:55:00+00:00     33             1            938  2.158   \n",
              "2269297 2024-08-09 20:56:00+00:00     33             1            938  2.160   \n",
              "2269298 2024-08-09 20:57:00+00:00     33             1            938  2.160   \n",
              "2269299 2024-08-09 20:58:00+00:00     33             1            938  2.161   \n",
              "2269300 2024-08-09 20:59:00+00:00     33             1            938  2.162   \n",
              "\n",
              "          high    low  close  volume  symbol        date  \\\n",
              "0        3.295  3.288  3.292   891.0  NG.v.0  2017-05-21   \n",
              "1        3.296  3.292  3.296    87.0  NG.v.0  2017-05-21   \n",
              "2        3.296  3.288  3.290   127.0  NG.v.0  2017-05-21   \n",
              "3        3.293  3.290  3.293    36.0  NG.v.0  2017-05-21   \n",
              "4        3.293  3.289  3.289    50.0  NG.v.0  2017-05-21   \n",
              "...        ...    ...    ...     ...     ...         ...   \n",
              "2269296  2.160  2.158  2.160     9.0  NG.v.0  2024-08-09   \n",
              "2269297  2.162  2.160  2.161    31.0  NG.v.0  2024-08-09   \n",
              "2269298  2.162  2.159  2.161    43.0  NG.v.0  2024-08-09   \n",
              "2269299  2.163  2.161  2.162    20.0  NG.v.0  2024-08-09   \n",
              "2269300  2.163  2.161  2.161    10.0  NG.v.0  2024-08-09   \n",
              "\n",
              "         millis_from_midnight contract                 expiration  \n",
              "0                  79200000.0     NGM7  2017-05-26 18:30:00+00:00  \n",
              "1                  79260000.0     NGM7  2017-05-26 18:30:00+00:00  \n",
              "2                  79320000.0     NGM7  2017-05-26 18:30:00+00:00  \n",
              "3                  79380000.0     NGM7  2017-05-26 18:30:00+00:00  \n",
              "4                  79440000.0     NGM7  2017-05-26 18:30:00+00:00  \n",
              "...                       ...      ...                        ...  \n",
              "2269296            75300000.0     NGU4  2024-08-28 18:30:00+00:00  \n",
              "2269297            75360000.0     NGU4  2024-08-28 18:30:00+00:00  \n",
              "2269298            75420000.0     NGU4  2024-08-28 18:30:00+00:00  \n",
              "2269299            75480000.0     NGU4  2024-08-28 18:30:00+00:00  \n",
              "2269300            75540000.0     NGU4  2024-08-28 18:30:00+00:00  \n",
              "\n",
              "[2269301 rows x 14 columns]"
            ],
            "text/html": [
              "\n",
              "  <div id=\"df-d4f1728d-6cad-4564-852b-60a0027e0b1b\" class=\"colab-df-container\">\n",
              "    <div>\n",
              "<style scoped>\n",
              "    .dataframe tbody tr th:only-of-type {\n",
              "        vertical-align: middle;\n",
              "    }\n",
              "\n",
              "    .dataframe tbody tr th {\n",
              "        vertical-align: top;\n",
              "    }\n",
              "\n",
              "    .dataframe thead th {\n",
              "        text-align: right;\n",
              "    }\n",
              "</style>\n",
              "<table border=\"1\" class=\"dataframe\">\n",
              "  <thead>\n",
              "    <tr style=\"text-align: right;\">\n",
              "      <th></th>\n",
              "      <th>ts_event</th>\n",
              "      <th>rtype</th>\n",
              "      <th>publisher_id</th>\n",
              "      <th>instrument_id</th>\n",
              "      <th>open</th>\n",
              "      <th>high</th>\n",
              "      <th>low</th>\n",
              "      <th>close</th>\n",
              "      <th>volume</th>\n",
              "      <th>symbol</th>\n",
              "      <th>date</th>\n",
              "      <th>millis_from_midnight</th>\n",
              "      <th>contract</th>\n",
              "      <th>expiration</th>\n",
              "    </tr>\n",
              "  </thead>\n",
              "  <tbody>\n",
              "    <tr>\n",
              "      <th>0</th>\n",
              "      <td>2017-05-21 22:00:00+00:00</td>\n",
              "      <td>33</td>\n",
              "      <td>1</td>\n",
              "      <td>168994</td>\n",
              "      <td>3.291</td>\n",
              "      <td>3.295</td>\n",
              "      <td>3.288</td>\n",
              "      <td>3.292</td>\n",
              "      <td>891.0</td>\n",
              "      <td>NG.v.0</td>\n",
              "      <td>2017-05-21</td>\n",
              "      <td>79200000.0</td>\n",
              "      <td>NGM7</td>\n",
              "      <td>2017-05-26 18:30:00+00:00</td>\n",
              "    </tr>\n",
              "    <tr>\n",
              "      <th>1</th>\n",
              "      <td>2017-05-21 22:01:00+00:00</td>\n",
              "      <td>33</td>\n",
              "      <td>1</td>\n",
              "      <td>168994</td>\n",
              "      <td>3.293</td>\n",
              "      <td>3.296</td>\n",
              "      <td>3.292</td>\n",
              "      <td>3.296</td>\n",
              "      <td>87.0</td>\n",
              "      <td>NG.v.0</td>\n",
              "      <td>2017-05-21</td>\n",
              "      <td>79260000.0</td>\n",
              "      <td>NGM7</td>\n",
              "      <td>2017-05-26 18:30:00+00:00</td>\n",
              "    </tr>\n",
              "    <tr>\n",
              "      <th>2</th>\n",
              "      <td>2017-05-21 22:02:00+00:00</td>\n",
              "      <td>33</td>\n",
              "      <td>1</td>\n",
              "      <td>168994</td>\n",
              "      <td>3.295</td>\n",
              "      <td>3.296</td>\n",
              "      <td>3.288</td>\n",
              "      <td>3.290</td>\n",
              "      <td>127.0</td>\n",
              "      <td>NG.v.0</td>\n",
              "      <td>2017-05-21</td>\n",
              "      <td>79320000.0</td>\n",
              "      <td>NGM7</td>\n",
              "      <td>2017-05-26 18:30:00+00:00</td>\n",
              "    </tr>\n",
              "    <tr>\n",
              "      <th>3</th>\n",
              "      <td>2017-05-21 22:03:00+00:00</td>\n",
              "      <td>33</td>\n",
              "      <td>1</td>\n",
              "      <td>168994</td>\n",
              "      <td>3.290</td>\n",
              "      <td>3.293</td>\n",
              "      <td>3.290</td>\n",
              "      <td>3.293</td>\n",
              "      <td>36.0</td>\n",
              "      <td>NG.v.0</td>\n",
              "      <td>2017-05-21</td>\n",
              "      <td>79380000.0</td>\n",
              "      <td>NGM7</td>\n",
              "      <td>2017-05-26 18:30:00+00:00</td>\n",
              "    </tr>\n",
              "    <tr>\n",
              "      <th>4</th>\n",
              "      <td>2017-05-21 22:04:00+00:00</td>\n",
              "      <td>33</td>\n",
              "      <td>1</td>\n",
              "      <td>168994</td>\n",
              "      <td>3.292</td>\n",
              "      <td>3.293</td>\n",
              "      <td>3.289</td>\n",
              "      <td>3.289</td>\n",
              "      <td>50.0</td>\n",
              "      <td>NG.v.0</td>\n",
              "      <td>2017-05-21</td>\n",
              "      <td>79440000.0</td>\n",
              "      <td>NGM7</td>\n",
              "      <td>2017-05-26 18:30:00+00:00</td>\n",
              "    </tr>\n",
              "    <tr>\n",
              "      <th>...</th>\n",
              "      <td>...</td>\n",
              "      <td>...</td>\n",
              "      <td>...</td>\n",
              "      <td>...</td>\n",
              "      <td>...</td>\n",
              "      <td>...</td>\n",
              "      <td>...</td>\n",
              "      <td>...</td>\n",
              "      <td>...</td>\n",
              "      <td>...</td>\n",
              "      <td>...</td>\n",
              "      <td>...</td>\n",
              "      <td>...</td>\n",
              "      <td>...</td>\n",
              "    </tr>\n",
              "    <tr>\n",
              "      <th>2269296</th>\n",
              "      <td>2024-08-09 20:55:00+00:00</td>\n",
              "      <td>33</td>\n",
              "      <td>1</td>\n",
              "      <td>938</td>\n",
              "      <td>2.158</td>\n",
              "      <td>2.160</td>\n",
              "      <td>2.158</td>\n",
              "      <td>2.160</td>\n",
              "      <td>9.0</td>\n",
              "      <td>NG.v.0</td>\n",
              "      <td>2024-08-09</td>\n",
              "      <td>75300000.0</td>\n",
              "      <td>NGU4</td>\n",
              "      <td>2024-08-28 18:30:00+00:00</td>\n",
              "    </tr>\n",
              "    <tr>\n",
              "      <th>2269297</th>\n",
              "      <td>2024-08-09 20:56:00+00:00</td>\n",
              "      <td>33</td>\n",
              "      <td>1</td>\n",
              "      <td>938</td>\n",
              "      <td>2.160</td>\n",
              "      <td>2.162</td>\n",
              "      <td>2.160</td>\n",
              "      <td>2.161</td>\n",
              "      <td>31.0</td>\n",
              "      <td>NG.v.0</td>\n",
              "      <td>2024-08-09</td>\n",
              "      <td>75360000.0</td>\n",
              "      <td>NGU4</td>\n",
              "      <td>2024-08-28 18:30:00+00:00</td>\n",
              "    </tr>\n",
              "    <tr>\n",
              "      <th>2269298</th>\n",
              "      <td>2024-08-09 20:57:00+00:00</td>\n",
              "      <td>33</td>\n",
              "      <td>1</td>\n",
              "      <td>938</td>\n",
              "      <td>2.160</td>\n",
              "      <td>2.162</td>\n",
              "      <td>2.159</td>\n",
              "      <td>2.161</td>\n",
              "      <td>43.0</td>\n",
              "      <td>NG.v.0</td>\n",
              "      <td>2024-08-09</td>\n",
              "      <td>75420000.0</td>\n",
              "      <td>NGU4</td>\n",
              "      <td>2024-08-28 18:30:00+00:00</td>\n",
              "    </tr>\n",
              "    <tr>\n",
              "      <th>2269299</th>\n",
              "      <td>2024-08-09 20:58:00+00:00</td>\n",
              "      <td>33</td>\n",
              "      <td>1</td>\n",
              "      <td>938</td>\n",
              "      <td>2.161</td>\n",
              "      <td>2.163</td>\n",
              "      <td>2.161</td>\n",
              "      <td>2.162</td>\n",
              "      <td>20.0</td>\n",
              "      <td>NG.v.0</td>\n",
              "      <td>2024-08-09</td>\n",
              "      <td>75480000.0</td>\n",
              "      <td>NGU4</td>\n",
              "      <td>2024-08-28 18:30:00+00:00</td>\n",
              "    </tr>\n",
              "    <tr>\n",
              "      <th>2269300</th>\n",
              "      <td>2024-08-09 20:59:00+00:00</td>\n",
              "      <td>33</td>\n",
              "      <td>1</td>\n",
              "      <td>938</td>\n",
              "      <td>2.162</td>\n",
              "      <td>2.163</td>\n",
              "      <td>2.161</td>\n",
              "      <td>2.161</td>\n",
              "      <td>10.0</td>\n",
              "      <td>NG.v.0</td>\n",
              "      <td>2024-08-09</td>\n",
              "      <td>75540000.0</td>\n",
              "      <td>NGU4</td>\n",
              "      <td>2024-08-28 18:30:00+00:00</td>\n",
              "    </tr>\n",
              "  </tbody>\n",
              "</table>\n",
              "<p>2269301 rows × 14 columns</p>\n",
              "</div>\n",
              "    <div class=\"colab-df-buttons\">\n",
              "\n",
              "  <div class=\"colab-df-container\">\n",
              "    <button class=\"colab-df-convert\" onclick=\"convertToInteractive('df-d4f1728d-6cad-4564-852b-60a0027e0b1b')\"\n",
              "            title=\"Convert this dataframe to an interactive table.\"\n",
              "            style=\"display:none;\">\n",
              "\n",
              "  <svg xmlns=\"http://www.w3.org/2000/svg\" height=\"24px\" viewBox=\"0 -960 960 960\">\n",
              "    <path d=\"M120-120v-720h720v720H120Zm60-500h600v-160H180v160Zm220 220h160v-160H400v160Zm0 220h160v-160H400v160ZM180-400h160v-160H180v160Zm440 0h160v-160H620v160ZM180-180h160v-160H180v160Zm440 0h160v-160H620v160Z\"/>\n",
              "  </svg>\n",
              "    </button>\n",
              "\n",
              "  <style>\n",
              "    .colab-df-container {\n",
              "      display:flex;\n",
              "      gap: 12px;\n",
              "    }\n",
              "\n",
              "    .colab-df-convert {\n",
              "      background-color: #E8F0FE;\n",
              "      border: none;\n",
              "      border-radius: 50%;\n",
              "      cursor: pointer;\n",
              "      display: none;\n",
              "      fill: #1967D2;\n",
              "      height: 32px;\n",
              "      padding: 0 0 0 0;\n",
              "      width: 32px;\n",
              "    }\n",
              "\n",
              "    .colab-df-convert:hover {\n",
              "      background-color: #E2EBFA;\n",
              "      box-shadow: 0px 1px 2px rgba(60, 64, 67, 0.3), 0px 1px 3px 1px rgba(60, 64, 67, 0.15);\n",
              "      fill: #174EA6;\n",
              "    }\n",
              "\n",
              "    .colab-df-buttons div {\n",
              "      margin-bottom: 4px;\n",
              "    }\n",
              "\n",
              "    [theme=dark] .colab-df-convert {\n",
              "      background-color: #3B4455;\n",
              "      fill: #D2E3FC;\n",
              "    }\n",
              "\n",
              "    [theme=dark] .colab-df-convert:hover {\n",
              "      background-color: #434B5C;\n",
              "      box-shadow: 0px 1px 3px 1px rgba(0, 0, 0, 0.15);\n",
              "      filter: drop-shadow(0px 1px 2px rgba(0, 0, 0, 0.3));\n",
              "      fill: #FFFFFF;\n",
              "    }\n",
              "  </style>\n",
              "\n",
              "    <script>\n",
              "      const buttonEl =\n",
              "        document.querySelector('#df-d4f1728d-6cad-4564-852b-60a0027e0b1b button.colab-df-convert');\n",
              "      buttonEl.style.display =\n",
              "        google.colab.kernel.accessAllowed ? 'block' : 'none';\n",
              "\n",
              "      async function convertToInteractive(key) {\n",
              "        const element = document.querySelector('#df-d4f1728d-6cad-4564-852b-60a0027e0b1b');\n",
              "        const dataTable =\n",
              "          await google.colab.kernel.invokeFunction('convertToInteractive',\n",
              "                                                    [key], {});\n",
              "        if (!dataTable) return;\n",
              "\n",
              "        const docLinkHtml = 'Like what you see? Visit the ' +\n",
              "          '<a target=\"_blank\" href=https://colab.research.google.com/notebooks/data_table.ipynb>data table notebook</a>'\n",
              "          + ' to learn more about interactive tables.';\n",
              "        element.innerHTML = '';\n",
              "        dataTable['output_type'] = 'display_data';\n",
              "        await google.colab.output.renderOutput(dataTable, element);\n",
              "        const docLink = document.createElement('div');\n",
              "        docLink.innerHTML = docLinkHtml;\n",
              "        element.appendChild(docLink);\n",
              "      }\n",
              "    </script>\n",
              "  </div>\n",
              "\n",
              "\n",
              "<div id=\"df-3c504c91-42dd-471a-aae6-5532dc4282c9\">\n",
              "  <button class=\"colab-df-quickchart\" onclick=\"quickchart('df-3c504c91-42dd-471a-aae6-5532dc4282c9')\"\n",
              "            title=\"Suggest charts\"\n",
              "            style=\"display:none;\">\n",
              "\n",
              "<svg xmlns=\"http://www.w3.org/2000/svg\" height=\"24px\"viewBox=\"0 0 24 24\"\n",
              "     width=\"24px\">\n",
              "    <g>\n",
              "        <path d=\"M19 3H5c-1.1 0-2 .9-2 2v14c0 1.1.9 2 2 2h14c1.1 0 2-.9 2-2V5c0-1.1-.9-2-2-2zM9 17H7v-7h2v7zm4 0h-2V7h2v10zm4 0h-2v-4h2v4z\"/>\n",
              "    </g>\n",
              "</svg>\n",
              "  </button>\n",
              "\n",
              "<style>\n",
              "  .colab-df-quickchart {\n",
              "      --bg-color: #E8F0FE;\n",
              "      --fill-color: #1967D2;\n",
              "      --hover-bg-color: #E2EBFA;\n",
              "      --hover-fill-color: #174EA6;\n",
              "      --disabled-fill-color: #AAA;\n",
              "      --disabled-bg-color: #DDD;\n",
              "  }\n",
              "\n",
              "  [theme=dark] .colab-df-quickchart {\n",
              "      --bg-color: #3B4455;\n",
              "      --fill-color: #D2E3FC;\n",
              "      --hover-bg-color: #434B5C;\n",
              "      --hover-fill-color: #FFFFFF;\n",
              "      --disabled-bg-color: #3B4455;\n",
              "      --disabled-fill-color: #666;\n",
              "  }\n",
              "\n",
              "  .colab-df-quickchart {\n",
              "    background-color: var(--bg-color);\n",
              "    border: none;\n",
              "    border-radius: 50%;\n",
              "    cursor: pointer;\n",
              "    display: none;\n",
              "    fill: var(--fill-color);\n",
              "    height: 32px;\n",
              "    padding: 0;\n",
              "    width: 32px;\n",
              "  }\n",
              "\n",
              "  .colab-df-quickchart:hover {\n",
              "    background-color: var(--hover-bg-color);\n",
              "    box-shadow: 0 1px 2px rgba(60, 64, 67, 0.3), 0 1px 3px 1px rgba(60, 64, 67, 0.15);\n",
              "    fill: var(--button-hover-fill-color);\n",
              "  }\n",
              "\n",
              "  .colab-df-quickchart-complete:disabled,\n",
              "  .colab-df-quickchart-complete:disabled:hover {\n",
              "    background-color: var(--disabled-bg-color);\n",
              "    fill: var(--disabled-fill-color);\n",
              "    box-shadow: none;\n",
              "  }\n",
              "\n",
              "  .colab-df-spinner {\n",
              "    border: 2px solid var(--fill-color);\n",
              "    border-color: transparent;\n",
              "    border-bottom-color: var(--fill-color);\n",
              "    animation:\n",
              "      spin 1s steps(1) infinite;\n",
              "  }\n",
              "\n",
              "  @keyframes spin {\n",
              "    0% {\n",
              "      border-color: transparent;\n",
              "      border-bottom-color: var(--fill-color);\n",
              "      border-left-color: var(--fill-color);\n",
              "    }\n",
              "    20% {\n",
              "      border-color: transparent;\n",
              "      border-left-color: var(--fill-color);\n",
              "      border-top-color: var(--fill-color);\n",
              "    }\n",
              "    30% {\n",
              "      border-color: transparent;\n",
              "      border-left-color: var(--fill-color);\n",
              "      border-top-color: var(--fill-color);\n",
              "      border-right-color: var(--fill-color);\n",
              "    }\n",
              "    40% {\n",
              "      border-color: transparent;\n",
              "      border-right-color: var(--fill-color);\n",
              "      border-top-color: var(--fill-color);\n",
              "    }\n",
              "    60% {\n",
              "      border-color: transparent;\n",
              "      border-right-color: var(--fill-color);\n",
              "    }\n",
              "    80% {\n",
              "      border-color: transparent;\n",
              "      border-right-color: var(--fill-color);\n",
              "      border-bottom-color: var(--fill-color);\n",
              "    }\n",
              "    90% {\n",
              "      border-color: transparent;\n",
              "      border-bottom-color: var(--fill-color);\n",
              "    }\n",
              "  }\n",
              "</style>\n",
              "\n",
              "  <script>\n",
              "    async function quickchart(key) {\n",
              "      const quickchartButtonEl =\n",
              "        document.querySelector('#' + key + ' button');\n",
              "      quickchartButtonEl.disabled = true;  // To prevent multiple clicks.\n",
              "      quickchartButtonEl.classList.add('colab-df-spinner');\n",
              "      try {\n",
              "        const charts = await google.colab.kernel.invokeFunction(\n",
              "            'suggestCharts', [key], {});\n",
              "      } catch (error) {\n",
              "        console.error('Error during call to suggestCharts:', error);\n",
              "      }\n",
              "      quickchartButtonEl.classList.remove('colab-df-spinner');\n",
              "      quickchartButtonEl.classList.add('colab-df-quickchart-complete');\n",
              "    }\n",
              "    (() => {\n",
              "      let quickchartButtonEl =\n",
              "        document.querySelector('#df-3c504c91-42dd-471a-aae6-5532dc4282c9 button');\n",
              "      quickchartButtonEl.style.display =\n",
              "        google.colab.kernel.accessAllowed ? 'block' : 'none';\n",
              "    })();\n",
              "  </script>\n",
              "</div>\n",
              "\n",
              "  <div id=\"id_e2ce8b2b-888a-4c33-9a4c-b66bc6ccd0e9\">\n",
              "    <style>\n",
              "      .colab-df-generate {\n",
              "        background-color: #E8F0FE;\n",
              "        border: none;\n",
              "        border-radius: 50%;\n",
              "        cursor: pointer;\n",
              "        display: none;\n",
              "        fill: #1967D2;\n",
              "        height: 32px;\n",
              "        padding: 0 0 0 0;\n",
              "        width: 32px;\n",
              "      }\n",
              "\n",
              "      .colab-df-generate:hover {\n",
              "        background-color: #E2EBFA;\n",
              "        box-shadow: 0px 1px 2px rgba(60, 64, 67, 0.3), 0px 1px 3px 1px rgba(60, 64, 67, 0.15);\n",
              "        fill: #174EA6;\n",
              "      }\n",
              "\n",
              "      [theme=dark] .colab-df-generate {\n",
              "        background-color: #3B4455;\n",
              "        fill: #D2E3FC;\n",
              "      }\n",
              "\n",
              "      [theme=dark] .colab-df-generate:hover {\n",
              "        background-color: #434B5C;\n",
              "        box-shadow: 0px 1px 3px 1px rgba(0, 0, 0, 0.15);\n",
              "        filter: drop-shadow(0px 1px 2px rgba(0, 0, 0, 0.3));\n",
              "        fill: #FFFFFF;\n",
              "      }\n",
              "    </style>\n",
              "    <button class=\"colab-df-generate\" onclick=\"generateWithVariable('historical_df')\"\n",
              "            title=\"Generate code using this dataframe.\"\n",
              "            style=\"display:none;\">\n",
              "\n",
              "  <svg xmlns=\"http://www.w3.org/2000/svg\" height=\"24px\"viewBox=\"0 0 24 24\"\n",
              "       width=\"24px\">\n",
              "    <path d=\"M7,19H8.4L18.45,9,17,7.55,7,17.6ZM5,21V16.75L18.45,3.32a2,2,0,0,1,2.83,0l1.4,1.43a1.91,1.91,0,0,1,.58,1.4,1.91,1.91,0,0,1-.58,1.4L9.25,21ZM18.45,9,17,7.55Zm-12,3A5.31,5.31,0,0,0,4.9,8.1,5.31,5.31,0,0,0,1,6.5,5.31,5.31,0,0,0,4.9,4.9,5.31,5.31,0,0,0,6.5,1,5.31,5.31,0,0,0,8.1,4.9,5.31,5.31,0,0,0,12,6.5,5.46,5.46,0,0,0,6.5,12Z\"/>\n",
              "  </svg>\n",
              "    </button>\n",
              "    <script>\n",
              "      (() => {\n",
              "      const buttonEl =\n",
              "        document.querySelector('#id_e2ce8b2b-888a-4c33-9a4c-b66bc6ccd0e9 button.colab-df-generate');\n",
              "      buttonEl.style.display =\n",
              "        google.colab.kernel.accessAllowed ? 'block' : 'none';\n",
              "\n",
              "      buttonEl.onclick = () => {\n",
              "        google.colab.notebook.generateWithVariable('historical_df');\n",
              "      }\n",
              "      })();\n",
              "    </script>\n",
              "  </div>\n",
              "\n",
              "    </div>\n",
              "  </div>\n"
            ],
            "application/vnd.google.colaboratory.intrinsic+json": {
              "type": "dataframe",
              "variable_name": "historical_df"
            }
          },
          "metadata": {},
          "execution_count": 3
        }
      ],
      "source": [
        "historical_df = pd.read_csv('/content/drive/MyDrive/RTL DATA/Market Data/Databento Raw/NG.csv', parse_dates=['ts_event', ])\n",
        "definitions_df = pd.read_csv('/content/drive/MyDrive/RTL DATA/Market Data/security_definition/NG.csv',)\n",
        "\n",
        "historical_df['date'] = historical_df['ts_event'].dt.date\n",
        "historical_df['millis_from_midnight'] = (historical_df['ts_event'] - historical_df['ts_event'].dt.floor('D')).dt.total_seconds() * 1000\n",
        "\n",
        "instrument_2_contract = {}\n",
        "instrument_2_expiration = {}\n",
        "\n",
        "for i, row in definitions_df.iterrows():\n",
        "    instrument_2_contract[row['instrument_id']] = row['raw_symbol']\n",
        "    instrument_2_expiration[row['instrument_id']] = row['expiration']\n",
        "\n",
        "historical_df['contract'] = historical_df['instrument_id'].map(instrument_2_contract)\n",
        "historical_df['expiration'] = historical_df['instrument_id'].map(instrument_2_expiration)\n",
        "historical_df"
      ]
    },
    {
      "cell_type": "code",
      "execution_count": 7,
      "metadata": {
        "colab": {
          "base_uri": "https://localhost:8080/"
        },
        "id": "WIh0Pghqbn2R",
        "outputId": "2f67621c-4d7b-4d05-adde-b35199e659e2"
      },
      "outputs": [
        {
          "output_type": "stream",
          "name": "stderr",
          "text": [
            "/usr/local/lib/python3.10/dist-packages/ipykernel/ipkernel.py:283: DeprecationWarning: `should_run_async` will not call `transform_cell` automatically in the future. Please pass the result to `transformed_cell` argument and any exception that happen during thetransform in `preprocessing_exc_tuple` in IPython 7.17 and above.\n",
            "  and should_run_async(code)\n"
          ]
        }
      ],
      "source": [
        "# @title historical raw data to LEAN format\n",
        "\n",
        "def get_month_code(row):\n",
        "\n",
        "    month = row['contract'][-2]\n",
        "    expiration = row['expiration']\n",
        "    code_to_month = {\n",
        "            'F': '01',\n",
        "            'G': '02',\n",
        "            'H': '03',\n",
        "            'J': '04',\n",
        "            'K': '05',\n",
        "            'M': '06',\n",
        "            'N': '07',\n",
        "            'Q': '08',\n",
        "            'U': '09',\n",
        "            'V': '10',\n",
        "            'X': '11',\n",
        "            'Z': '12'\n",
        "    }\n",
        "    return f'{expiration.year}{code_to_month[month]}'\n",
        "\n",
        "def build_historical_df(ticker: str, start_date: datetime, end_date: datetime):\n",
        "    HISTORICAL_DATA_PATH = f'/content/drive/MyDrive/RTL DATA/Market Data/Databento Raw/{ticker}.csv'\n",
        "    historical_df = pd.read_csv(HISTORICAL_DATA_PATH, )\n",
        "    historical_df['ts_event'] = pd.to_datetime(historical_df['ts_event'])\n",
        "    historical_df['date'] = historical_df['ts_event'].dt.date\n",
        "    historical_df['millis_from_midnight'] = (historical_df['ts_event'] - historical_df['ts_event'].dt.floor('D')).dt.total_seconds() * 1000\n",
        "\n",
        "    SECURITY_DEFINITION_PATH = f'/content/drive/MyDrive/RTL DATA/Market Data/security_definition/{ticker}.csv'\n",
        "    definitions_df = pd.read_csv(SECURITY_DEFINITION_PATH,)\n",
        "    definitions_df['expiration'] = pd.to_datetime(definitions_df['expiration'])\n",
        "\n",
        "    instrument_2_contract = {}\n",
        "    instrument_2_expiration = {}\n",
        "\n",
        "    for i, row in definitions_df.iterrows():\n",
        "        instrument_2_contract[row['instrument_id']] = row['raw_symbol']\n",
        "        instrument_2_expiration[row['instrument_id']] = row['expiration']\n",
        "\n",
        "    historical_df['contract'] = historical_df['instrument_id'].map(instrument_2_contract)\n",
        "    historical_df['expiration'] = historical_df['instrument_id'].map(instrument_2_expiration)\n",
        "    historical_df = historical_df.query('date >= @start_date.date()')\n",
        "    historical_df = historical_df.query('date <= @end_date.date()')\n",
        "    return historical_df\n",
        "\n",
        "\n",
        "def raw_data_to_lean_format(ticker: str, start_date: datetime, end_date: datetime):\n",
        "\n",
        "\n",
        "    dbg_df = historical_df\n",
        "    return\n",
        "\n",
        "\n",
        "\n",
        "\n",
        "    LEAN_FORMAT_BASE_PATH = f'/content/drive/MyDrive/RTL DATA/Market Data/LEAN format/future/{market.lower()}/minute/{ticker.lower()}'\n",
        "\n",
        "    ref = None\n",
        "    for date, bars in historical_df.groupby('Date'):\n",
        "        print(date, bars)\n",
        "        expiration = bars.iloc[0]['Expiration']\n",
        "        cur_df = bars[['MillisFromMidnight', 'Open', 'High', 'Low', 'Close', 'Volume']].set_index('MillisFromMidnight')\n",
        "        cur_df.index = cur_df.index.astype('int')\n",
        "\n",
        "        zip_path = LEAN_FORMAT_BASE_PATH + f'/{date.strftime(\"%Y%m%d\")}_trade.zip'\n",
        "        csv_path = LEAN_FORMAT_BASE_PATH + f'/{date.strftime(\"%Y%m%d\")}_{ticker.lower()}_minute_trade_{get_month_code(bars.iloc[0][\"Contract\"]) }_{expiration.strftime(\"%Y%m%d\")}.csv'\n",
        "\n",
        "        try:\n",
        "            cur_df.to_csv(csv_path, index=True, header=False)\n",
        "        except:\n",
        "            ! mkdir \"{LEAN_FORMAT_BASE_PATH}\"\n",
        "            cur_df.to_csv(csv_path, index=True, header=False)\n",
        "\n",
        "        with zipfile.ZipFile(zip_path, 'w') as zip_file:\n",
        "            zip_file.write(csv_path, arcname=f'{date.strftime(\"%Y%m%d\")}_{ticker.lower()}_minute_trade_{get_month_code(bars.iloc[0][\"Contract\"])}_{expiration.strftime(\"%Y%m%d\")}.csv')\n",
        "\n",
        "        os.remove(csv_path)"
      ]
    },
    {
      "cell_type": "code",
      "execution_count": null,
      "metadata": {
        "colab": {
          "background_save": true,
          "base_uri": "https://localhost:8080/",
          "height": 138,
          "referenced_widgets": [
            "18c154b3e11a4740b268203c662bc834"
          ]
        },
        "id": "Mf6i68uUFlO9",
        "outputId": "07a3733b-7f7c-4488-ed28-91c32a6dc77f"
      },
      "outputs": [
        {
          "name": "stderr",
          "output_type": "stream",
          "text": [
            "/usr/local/lib/python3.10/dist-packages/ipykernel/ipkernel.py:283: DeprecationWarning: `should_run_async` will not call `transform_cell` automatically in the future. Please pass the result to `transformed_cell` argument and any exception that happen during thetransform in `preprocessing_exc_tuple` in IPython 7.17 and above.\n",
            "  and should_run_async(code)\n"
          ]
        },
        {
          "data": {
            "application/vnd.jupyter.widget-view+json": {
              "model_id": "18c154b3e11a4740b268203c662bc834",
              "version_major": 2,
              "version_minor": 0
            },
            "text/plain": [
              "  0%|          | 0/16 [00:00<?, ?it/s]"
            ]
          },
          "metadata": {},
          "output_type": "display_data"
        },
        {
          "name": "stdout",
          "output_type": "stream",
          "text": [
            "STARTED: 6A\n",
            "STARTED: 6B\n",
            "STARTED: 6C\n",
            "STARTED: 6E\n",
            "STARTED: 6J\n",
            "STARTED: 6N\n",
            "STARTED: 6S\n"
          ]
        }
      ],
      "source": [
        "tickers = 'NG' # @param\n",
        "tickers = tickers.split()\n",
        "symbolMarket = {\n",
        "        'RTY': 'CME',\n",
        "        'NQ': 'CME',\n",
        "        'ES': 'CME',\n",
        "        '6A': 'CME',\n",
        "        '6B': 'CME',\n",
        "        '6C': 'CME',\n",
        "        '6E': 'CME',\n",
        "        '6J': 'CME',\n",
        "        '6S': 'CME',\n",
        "        '6N': 'CME',\n",
        "        'CL': 'NYMEX',\n",
        "        'NG': 'NYMEX',\n",
        "        'GC': 'COMEX',\n",
        "        'HG': 'COMEX',\n",
        "        'SI': 'COMEX',\n",
        "        'ZS': 'CBOT',\n",
        "        'ZN': 'CBOT',\n",
        "        'BTCUSDT.P': 'BINANCE',\n",
        "        'BTCUSDT': 'BINANCE'\n",
        "    }\n",
        "for ticker in tqdm(tickers):\n",
        "    market = symbolMarket[ticker]\n",
        "    print(f'STARTED: {ticker}')\n",
        "    start_date = datetime(2024,6,19)\n",
        "    end_date = datetime(2024,8,10)\n",
        "    raw_data_to_lean_format(ticker, start_date, end_date)"
      ]
    }
  ],
  "metadata": {
    "colab": {
      "provenance": [],
      "include_colab_link": true
    },
    "kernelspec": {
      "display_name": "Python 3",
      "name": "python3"
    },
    "language_info": {
      "name": "python"
    }
  },
  "nbformat": 4,
  "nbformat_minor": 0
}